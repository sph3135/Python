{
 "cells": [
  {
   "cell_type": "code",
   "execution_count": 1,
   "id": "046b51c6",
   "metadata": {},
   "outputs": [
    {
     "name": "stdout",
     "output_type": "stream",
     "text": [
      "Requirement already satisfied: mysql-connector-python in c:\\users\\sudee\\anaconda3\\envs\\tf-gpu\\lib\\site-packages (8.0.26)\n",
      "Requirement already satisfied: protobuf>=3.0.0 in c:\\users\\sudee\\anaconda3\\envs\\tf-gpu\\lib\\site-packages (from mysql-connector-python) (3.14.0)\n",
      "Requirement already satisfied: six>=1.9 in c:\\users\\sudee\\anaconda3\\envs\\tf-gpu\\lib\\site-packages (from protobuf>=3.0.0->mysql-connector-python) (1.15.0)\n",
      "Note: you may need to restart the kernel to use updated packages.\n"
     ]
    }
   ],
   "source": [
    "pip install mysql-connector-python"
   ]
  },
  {
   "cell_type": "code",
   "execution_count": 2,
   "id": "2f60f7f7",
   "metadata": {},
   "outputs": [],
   "source": [
    "import mysql.connector as sql"
   ]
  },
  {
   "cell_type": "code",
   "execution_count": 3,
   "id": "88feaba5",
   "metadata": {},
   "outputs": [],
   "source": [
    "from mysql.connector import Error"
   ]
  },
  {
   "cell_type": "code",
   "execution_count": 7,
   "id": "a2ef80e9",
   "metadata": {},
   "outputs": [
    {
     "name": "stdout",
     "output_type": "stream",
     "text": [
      "connection is successful\n"
     ]
    }
   ],
   "source": [
    "#connecting to sql\n",
    "connection = sql.connect(user='your_username', host='localhost', passwd='your_password', auth_plugin='caching_sha2_password', database='your_databasename')\n",
    "if connection.is_connected():\n",
    "    print('connection is successful') \n",
    "else:\n",
    "    print('no connection')"
   ]
  },
  {
   "cell_type": "code",
   "execution_count": 8,
   "id": "35b54b39",
   "metadata": {},
   "outputs": [
    {
     "name": "stdout",
     "output_type": "stream",
     "text": [
      "Total number of rows in table:  1\n",
      "\n",
      "Printing each row\n",
      "height =  1\n",
      "rh =  100 \n",
      "\n"
     ]
    }
   ],
   "source": [
    "#taking values from a table in the databae\n",
    "sql_select_Query = \"select * from table_name\"\n",
    "cursor = connection.cursor()\n",
    "cursor.execute(sql_select_Query)\n",
    "# get all records\n",
    "records = cursor.fetchall()\n",
    "print(\"Total number of rows in table: \", cursor.rowcount)\n",
    "print(\"\\nPrinting each row\")\n",
    "for row in records:\n",
    "    print(\"height = \", row[0], )\n",
    "    print(\"rh = \", row[1], \"\\n\")"
   ]
  }
 ],
 "metadata": {
  "kernelspec": {
   "display_name": "Python 3",
   "language": "python",
   "name": "python3"
  },
  "language_info": {
   "codemirror_mode": {
    "name": "ipython",
    "version": 3
   },
   "file_extension": ".py",
   "mimetype": "text/x-python",
   "name": "python",
   "nbconvert_exporter": "python",
   "pygments_lexer": "ipython3",
   "version": "3.8.8"
  }
 },
 "nbformat": 4,
 "nbformat_minor": 5
}
